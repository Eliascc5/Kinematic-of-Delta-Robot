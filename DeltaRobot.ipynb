{
  "nbformat": 4,
  "nbformat_minor": 0,
  "metadata": {
    "colab": {
      "name": "DeltaRobot.ipynb",
      "provenance": [],
      "collapsed_sections": [],
      "mount_file_id": "1HsRBNTzJQOGF-4rUdD4vPS73AxK9gKfl",
      "authorship_tag": "ABX9TyMmaKGHLVrtub0q1dRznjGY",
      "include_colab_link": true
    },
    "kernelspec": {
      "name": "python3",
      "display_name": "Python 3"
    }
  },
  "cells": [
    {
      "cell_type": "markdown",
      "metadata": {
        "id": "view-in-github",
        "colab_type": "text"
      },
      "source": [
        "<a href=\"https://colab.research.google.com/github/Eliascc5/Kinematic-of-Delta-Robot/blob/main/DeltaRobot.ipynb\" target=\"_parent\"><img src=\"https://colab.research.google.com/assets/colab-badge.svg\" alt=\"Open In Colab\"/></a>"
      ]
    },
    {
      "cell_type": "markdown",
      "metadata": {
        "id": "TYqItLhOyI_M"
      },
      "source": [
        "**<h1>Rotational Delta Robot kinematic analysis (3 DOF).</h1>**\r\n",
        "\r\n",
        "\r\n",
        "**Inspiration from a commercial robot. Model:ABB FlexPicker IRB 360-1 ***"
      ]
    },
    {
      "cell_type": "code",
      "metadata": {
        "id": "7CPjj_hLS-eZ"
      },
      "source": [
        "import numpy as np\r\n",
        "import matplotlib.pyplot as plt\r\n",
        "import math"
      ],
      "execution_count": null,
      "outputs": []
    },
    {
      "cell_type": "markdown",
      "metadata": {
        "id": "vjB3TQJXTVI_"
      },
      "source": [
        "All parameters in meters."
      ]
    },
    {
      "cell_type": "code",
      "metadata": {
        "id": "k2luTVgJTGXH"
      },
      "source": [
        "Sb=0.567            #Base equilateral triangle side\r\n",
        "Sp=0.076            #Platform equilateral triangle side\r\n",
        "\r\n",
        "L = 0.524            #Upper legs length\r\n",
        "l = 1.244            #Lower legs parallelogram length\r\n",
        "h = 0.131            #Lower legs parallelogram width\r\n",
        "\r\n",
        "wb=(math.sqrt(3)/6)*Sb            #Planar distance from {0} to near base side\r\n",
        "ub=(math.sqrt(3)/3)*Sb            #Planar distance from {0} to a base vertex \r\n",
        "wp=(math.sqrt(3)/6)*Sp            #Planar distance from {P} to near platform side\r\n",
        "up=(math.sqrt(3)/3)*Sp            #Planar distance from {P} to a platform vertex\r\n",
        "\r\n",
        "#Convertions constants\r\n",
        "\r\n",
        "DEG_TO_RAD = math.pi/180\r\n",
        "RAD_TO_DEF = 180/math.pi\r\n"
      ],
      "execution_count": null,
      "outputs": []
    },
    {
      "cell_type": "markdown",
      "metadata": {
        "id": "VtkqEnLx03j0"
      },
      "source": [
        "Then the angles theta1, theta2 and theta3 correspond to each arituculation. They serve to solve direct kinematics.\r\n",
        "\r\n",
        "\r\n",
        "NOTE: Uncomment them if you want to test the model"
      ]
    },
    {
      "cell_type": "code",
      "metadata": {
        "id": "M3pJEgfLYKmm"
      },
      "source": [
        "#Put it in radians\r\n",
        "#theta1 = 45*DEG_TO_RAD\r\n",
        "#theta2 = 45*DEG_TO_RAD\r\n",
        "#theta3 = 45*DEG_TO_RAD\r\n"
      ],
      "execution_count": null,
      "outputs": []
    },
    {
      "cell_type": "markdown",
      "metadata": {
        "id": "xrKw-Ab6V8VW"
      },
      "source": [
        "The fixed base Cartesian reference frame is {B}"
      ]
    },
    {
      "cell_type": "code",
      "metadata": {
        "id": "n9DnhKMLUsiu"
      },
      "source": [
        "B1=np.array([0,-wb,0])\r\n",
        "B2=np.array([(math.sqrt(3)/2)*wb,0.5*wb,0])\r\n",
        "B3=np.array([(-math.sqrt(3)/2)*wb,0.5*wb,0])"
      ],
      "execution_count": null,
      "outputs": []
    },
    {
      "cell_type": "markdown",
      "metadata": {
        "id": "fZEQxmKWW38v"
      },
      "source": [
        "The platform-fixed U-joint connection points Pi are constant in the base frame {P}"
      ]
    },
    {
      "cell_type": "code",
      "metadata": {
        "id": "XMtb4gvRWOBU"
      },
      "source": [
        "P1=np.array([0,-up,0])\r\n",
        "P2=np.array([Sp/2,wp,0])\r\n",
        "P3=np.array([-Sp/2,wp,0])"
      ],
      "execution_count": null,
      "outputs": []
    },
    {
      "cell_type": "code",
      "metadata": {
        "id": "OST60PAfiTBt"
      },
      "source": [
        "a=wb-up\r\n",
        "b=Sp/2-(math.sqrt(3)/2)*wb\r\n",
        "c=wp-0.5*wb"
      ],
      "execution_count": null,
      "outputs": []
    },
    {
      "cell_type": "markdown",
      "metadata": {
        "id": "lrc1wnCLipG6"
      },
      "source": [
        "<b><h2>Inverse Position Kinematics "
      ]
    },
    {
      "cell_type": "code",
      "metadata": {
        "id": "hcViUiVZioDu"
      },
      "source": [
        "# End effector coordinates\r\n",
        "\r\n",
        "x=0.2\r\n",
        "y=0.2\r\n",
        "z=-1           #Modify Z within the range [-0.9; -1.6]   \r\n",
        "               #At maximum depth the radius (x, y) is 0.2 [m]\r\n",
        "\r\n",
        "cord=np.matrix([[x],[y],[z]])     #Just to test\r\n",
        "\r\n",
        "E1=2*L*(y+a)\r\n",
        "F1=2*z*L\r\n",
        "G1=pow(x,2)+pow(y,2)+pow(z,2)+pow(a,2)+pow(L,2)+2*y*a-pow(l,2)\r\n",
        "\r\n",
        "E2=-L*(math.sqrt(3)*(x+b)+y+c)\r\n",
        "F2=2*z*L\r\n",
        "G2=pow(x,2)+pow(y,2)+pow(z,2)+pow(b,2)+pow(c,2)+pow(L,2)+2*(x*b+y*c)-pow(l,2)\r\n",
        "\r\n",
        "E3=L*(math.sqrt(3)*(x-b)-y-c)\r\n",
        "F3=2*z*L\r\n",
        "G3=pow(x,2)+pow(y,2)+pow(z,2)+pow(b,2)+pow(c,2)+pow(L,2)+2*(-x*b + y*c)-pow(l,2)"
      ],
      "execution_count": null,
      "outputs": []
    },
    {
      "cell_type": "markdown",
      "metadata": {
        "id": "_2cR8pFT4Q8Z"
      },
      "source": [
        "Tangent Half-Angle Substiitution. "
      ]
    },
    {
      "cell_type": "code",
      "metadata": {
        "id": "RvZw5NoQJ2tV"
      },
      "source": [
        "t1_positive=(-F1+math.sqrt(abs(pow(E1,2)+pow(F1,2)-pow(G1,2))))/(G1-E1)\r\n",
        "t1_negative=(-F1-math.sqrt(abs(pow(E1,2)+pow(F1,2)-pow(G1,2))))/(G1-E1)\r\n",
        "\r\n",
        "t2_positive= (-F2+math.sqrt(abs(pow(E2,2)+pow(F2,2)-pow(G2,2))))/(G2-E2)\r\n",
        "t2_negative=(-F2-math.sqrt(abs(pow(E2,2)+pow(F2,2)-pow(G2,2))))/(G2-E2)\r\n",
        "\r\n",
        "t3_positive=(-F3+math.sqrt(abs(pow(E3,2)+pow(F3,2)-pow(G3,2))))/(G3-E3)\r\n",
        "t3_negative=(-F3-math.sqrt(abs(pow(E3,2)+pow(F3,2)-pow(G3,2))))/(G3-E3)\r\n",
        "\r\n",
        "\r\n",
        "#TO DO:  Analysis of the multiple solutions  \r\n",
        "#If you want to test the forward kinematic model, you have to comment these three lines\r\n",
        "\r\n",
        "#theta1_p=2*math.atan(t1_positive)\r\n",
        "theta1 = theta1_n=(2*math.atan(t1_negative))\r\n",
        "\r\n",
        "#theta2_p = 2*math.atan(t2_positive)\r\n",
        "theta2 = theta2_n=(2*math.atan(t2_negative))\r\n",
        "\r\n",
        "#theta3_p=2*math.atan(t3_positive)\r\n",
        "theta3 = theta3_n=(2*math.atan(t3_negative))\r\n"
      ],
      "execution_count": null,
      "outputs": []
    },
    {
      "cell_type": "code",
      "metadata": {
        "id": "ap-zmMb9NvjP"
      },
      "source": [
        "L1=np.array([0,-L*math.cos(theta1),-L*math.sin(theta1)])\r\n",
        "L2=np.array([(math.sqrt(3)/2)*L*math.cos(theta2),0.5*L*math.cos(theta2),-L*math.sin(theta2)])\r\n",
        "L3=np.array([-(math.sqrt(3)/2)*L*math.cos(theta3),0.5*L*math.cos(theta3),-L*math.sin(theta3)])\r\n",
        "\r\n",
        "\r\n",
        "A1=np.array([0,-wb-L*math.cos(theta1),-L*math.sin(theta1)])\r\n",
        "A2=np.array([(math.sqrt(3)/2)*(wb+L*math.cos(theta2)),0.5*(wb+L*math.cos(theta2)),-L*math.sin(theta2)])\r\n",
        "A3=np.array([-(math.sqrt(3)/2)*(wb+L*math.cos(theta3)),0.5*(wb+L*math.cos(theta3)),-L*math.sin(theta3)])"
      ],
      "execution_count": null,
      "outputs": []
    },
    {
      "cell_type": "code",
      "metadata": {
        "id": "Oy27GKDyOQ73",
        "colab": {
          "base_uri": "https://localhost:8080/"
        },
        "outputId": "7ce6d7b9-9665-4aa1-97e2-ce7c1dfa0bec"
      },
      "source": [
        "#print(\"theta1 positive:\",theta1_p * RAD_TO_DEF)\r\n",
        "print(\"theta1 negative:\",theta1_n * RAD_TO_DEF)     #kinked out solution\r\n",
        "print(\"--------------\")\r\n",
        "#print(\"theta2 positive:\",theta2_p * RAD_TO_DEF)\r\n",
        "print(\"theta2 negative:\",theta2_n * RAD_TO_DEF)     #kinked out solution\r\n",
        "print(\"--------------\")\r\n",
        "#print(\"theta3 positive:\",theta3_p * RAD_TO_DEF)\r\n",
        "print(\"theta3 negative:\",theta3_n * RAD_TO_DEF)     #kinked out solution"
      ],
      "execution_count": null,
      "outputs": [
        {
          "output_type": "stream",
          "text": [
            "theta1 negative: 10.91280576292464\n",
            "--------------\n",
            "theta2 negative: -22.03009841679397\n",
            "--------------\n",
            "theta3 negative: 2.2446420948652457\n"
          ],
          "name": "stdout"
        }
      ]
    },
    {
      "cell_type": "markdown",
      "metadata": {
        "id": "_dJIK24vSGNU"
      },
      "source": [
        "<b><h2>Forward Position Kinematics (FPK) Solution"
      ]
    },
    {
      "cell_type": "markdown",
      "metadata": {
        "id": "W4ibG8d8SOrv"
      },
      "source": [
        "Method: Three-Spheres Intersection Algorithm"
      ]
    },
    {
      "cell_type": "markdown",
      "metadata": {
        "id": "CT_8BuT9Wk64"
      },
      "source": [
        "Three  virtual  sphere  centers"
      ]
    },
    {
      "cell_type": "code",
      "metadata": {
        "id": "4LX4YvfkSFyh"
      },
      "source": [
        "A1v=A1-P1\r\n",
        "A2v=A2-P2\r\n",
        "A3v=A3-P3"
      ],
      "execution_count": null,
      "outputs": []
    },
    {
      "cell_type": "code",
      "metadata": {
        "id": "vyQb2A6hX1ZM"
      },
      "source": [
        "x1=A1v[0]\r\n",
        "x2=A2v[0]\r\n",
        "x3=A3v[0]\r\n",
        "\r\n",
        "y1=A1v[1]\r\n",
        "y2=A2v[1]\r\n",
        "y3=A3v[1]\r\n",
        "\r\n",
        "z1=A1v[2]\r\n",
        "z2=A2v[2]\r\n",
        "z3=A3v[2]"
      ],
      "execution_count": null,
      "outputs": []
    },
    {
      "cell_type": "markdown",
      "metadata": {
        "id": "IENYOcb1xytH"
      },
      "source": [
        "$R_{x}(\\theta)=\\left[\\begin{array}{ccc}\r\n",
        "1 & 0 & 0\\\\\r\n",
        "0 & cos(\\theta) & -sin(\\theta)\\\\\r\n",
        "0 & sin(\\theta) & cos(\\theta)\r\n",
        "\\end{array}\\right]$ $\\qquad$ $R_{y}(\\theta)=\\left[\\begin{array}{ccc}\r\n",
        "cos(\\theta) & 0 & sin(\\theta)\\\\\r\n",
        "0 & 1 & 0\\\\\r\n",
        "sin(\\theta) & 0 & cos(\\theta)\r\n",
        "\\end{array}\\right]$ $\\qquad$ $R_{z}(\\theta)=\\left[\\begin{array}{ccc}\r\n",
        "cos(\\theta) & -sin(\\theta) & 0\\\\\r\n",
        "sin(\\theta) & cos(\\theta) & 0\\\\\r\n",
        "0 & 0 & 1\r\n",
        "\\end{array}\\right]$\r\n",
        "\r\n",
        "\r\n",
        "\r\n"
      ]
    },
    {
      "cell_type": "code",
      "metadata": {
        "id": "SgA_YiHKslCh"
      },
      "source": [
        "# To save a future singularity(of the algorithm) we do a rotation around Z axis\r\n",
        "\r\n",
        "#rotZ_45=np.matrix([[math.cos(math.pi/4),-math.sin(math.pi/4),0],[math.sin(math.pi/4),math.cos(math.pi/4),0],[0,0,1]])\r\n",
        "rotX_45=np.matrix([[1,0,0],[0,math.cos(math.pi/4),-math.sin(math.pi/4)],[0,math.sin(math.pi/4),math.cos(math.pi/4)]])\r\n",
        "rotY_45=np.matrix([[math.cos(math.pi/4),0,math.sin(math.pi/4)],[0,1,0],[-math.sin(math.pi/4),0,math.cos(math.pi/4)]])\r\n",
        "\r\n",
        "shpere1 = np.matrix([[x1],[y1],[z1]])\r\n",
        "shpere2 = np.matrix([[x2],[y2],[z2]])\r\n",
        "shpere3 = np.matrix([[x3],[y3],[z3]])\r\n",
        "\r\n",
        "shpere1_45 = rotX_45*shpere1\r\n",
        "shpere2_45 = rotX_45*shpere2\r\n",
        "shpere3_45 = rotX_45*shpere3\r\n",
        "\r\n",
        "shpere1_45_xy=rotY_45*shpere1_45\r\n",
        "shpere2_45_xy=rotY_45*shpere2_45\r\n",
        "shpere3_45_xy=rotY_45*shpere3_45\r\n",
        "\r\n",
        "x1=shpere1_45_xy[0]\r\n",
        "x2=shpere2_45_xy[0]\r\n",
        "x3=shpere3_45_xy[0]\r\n",
        "\r\n",
        "y1=shpere1_45_xy[1]\r\n",
        "y2=shpere2_45_xy[1]\r\n",
        "y3=shpere3_45_xy[1]\r\n",
        "\r\n",
        "z1=shpere1_45_xy[2]\r\n",
        "z2=shpere2_45_xy[2]\r\n",
        "z3=shpere3_45_xy[2]"
      ],
      "execution_count": null,
      "outputs": []
    },
    {
      "cell_type": "markdown",
      "metadata": {
        "id": "gG7S4RvTVZiz"
      },
      "source": [
        "Our three given spheres are defined by: \r\n",
        "\r\n",
        "$(c_1,r_1)$ $(c_2,r_2)$ $(c_3,r_3)$\r\n",
        "\r\n",
        "\r\n",
        "$c_1=(x_1,y_1,z_1)$\r\n",
        "\r\n",
        "$c_2=(x_2,y_2,z_2)$\r\n",
        "\r\n",
        "$c_3=(x_3,y_3,z_3)$\r\n",
        "\r\n",
        "Where: \r\n",
        "\r\n",
        "$r_1 = r_2 = r_3 = l$"
      ]
    },
    {
      "cell_type": "markdown",
      "metadata": {
        "id": "BUrO3z8IU0ZG"
      },
      "source": [
        " Subtract  the  third  from  the  first  and  the  third  from  the  second  equations"
      ]
    },
    {
      "cell_type": "markdown",
      "metadata": {
        "id": "woIg5tpsTIC1"
      },
      "source": [
        "$(x-x_1)^2+(y-y_1)^2+(z-z_1)^2=r_1^2 \\quad (1)$\r\n",
        "\r\n",
        "$(x-x_2)^2+(y-y_2)^2+(z-z_2)^2=r_2^2 \\quad (2)$ \r\n",
        "\r\n",
        "$(x-x_3)^2+(y-y_3)^2+(z-z_3)^2=r_3^2 \\quad (3)$"
      ]
    },
    {
      "cell_type": "code",
      "metadata": {
        "id": "VT1J1IY1cOYW"
      },
      "source": [
        "a11=2*(x3-x1)\r\n",
        "a12=2*(y3-y1)\r\n",
        "a13=2*(z3-z1)\r\n",
        "\r\n",
        "a21=2*(x3-x2)\r\n",
        "a22=2*(y3-y2)\r\n",
        "a23=2*(z3-z2)\r\n",
        "\r\n",
        "b1=-pow(x1,2)-pow(y1,2)-pow(z1,2)+pow(x3,2)+pow(y3,2)+pow(z3,2)\r\n",
        "b2=-pow(x2,2)-pow(y2,2)-pow(z2,2)+pow(x3,2)+pow(y3,2)+pow(z3,2)\r\n",
        "\r\n",
        "a1=(a11/a13)-(a21/a23)\r\n",
        "a2=(a12/a13)-(a22/a23)\r\n",
        "a3=(b2/a23)-(b1/a13)\r\n",
        "a4=-a2/a1\r\n",
        "a5=-a3/a1\r\n",
        "a6=((-a21*a4)-a22)/a23\r\n",
        "a7=(b2-(a21*a5))/a23"
      ],
      "execution_count": null,
      "outputs": []
    },
    {
      "cell_type": "code",
      "metadata": {
        "id": "h6tgIwHhjhxJ"
      },
      "source": [
        "a=pow(a4,2)+1+pow(a6,2)\r\n",
        "b=(2*a4)*(a5-x1)-(2*y1) +(2*a6)*(a7-z1)\r\n",
        "c=a5*(a5-2*x1)+a7*(a7-2*z1)+pow(x1,2)+pow(y1,2)+pow(z1,2)-pow(l,2)\r\n",
        "\r\n",
        "y_positive=(-b+math.sqrt((pow(b,2)-4*a*c)))/(2*a)\r\n",
        "y_negative=(-b-math.sqrt((pow(b,2)-4*a*c)))/(2*a)\r\n",
        "\r\n",
        "x_positive=a4*y_positive+a5\r\n",
        "x_negative=a4*y_negative+a5\r\n",
        "\r\n",
        "z_positive=a6*y_positive+a7\r\n",
        "z_negative=a6*y_negative+a7\r\n",
        "\r\n",
        "\r\n",
        "rotX=np.matrix([[1,0,0],[0,math.cos(-math.pi/4),-math.sin(-math.pi/4)],[0,math.sin(-math.pi/4),math.cos(-math.pi/4)]])\r\n",
        "rotY=np.matrix([[math.cos(-math.pi/4),0,math.sin(-math.pi/4)],[0,1,0],[-math.sin(-math.pi/4),0,math.cos(-math.pi/4)]])\r\n",
        "\r\n",
        "intersection = np.matrix([[x_positive.item(0)],[y_positive.item(0)],[z_positive.item(0)]])\r\n",
        "\r\n",
        "intersection_y=rotY*intersection\r\n",
        "intersection_yx=rotX*intersection_y\r\n",
        "\r\n",
        "if intersection_yx.item(0)<0.0001:\r\n",
        "  intersection_yx[0]=0\r\n",
        "\r\n",
        "if intersection_yx.item(1)<0.0001:\r\n",
        "  intersection_yx[1]=0\r\n",
        "\r\n",
        "#print(intersection_yx)\r\n"
      ],
      "execution_count": null,
      "outputs": []
    },
    {
      "cell_type": "markdown",
      "metadata": {
        "id": "xPoLZltBdsI-"
      },
      "source": [
        "Simulation. (PLOT)"
      ]
    },
    {
      "cell_type": "code",
      "metadata": {
        "id": "iS-lf580drqj",
        "colab": {
          "base_uri": "https://localhost:8080/",
          "height": 316
        },
        "outputId": "1e77ded7-aa65-46fa-db6f-5d1ea7f162a1"
      },
      "source": [
        "#The vertices of the fixed-based equilateral triangle are:\r\n",
        "\r\n",
        "Ratio = math.sqrt(pow(Sb,2)-pow(Sb/2,2)) - wb\r\n",
        "\r\n",
        "alpha = np.linspace(0, 2 * np.pi, 201)\r\n",
        "x_BaseCircle = Ratio*np.cos(alpha)\r\n",
        "y_BaseCircle = Ratio*np.sin(alpha)\r\n",
        "\r\n",
        "Bb1 = [Sb/2,-wb,0]\r\n",
        "Bb2 = [0,ub,0]\r\n",
        "Bb3 = [-Sb/2, -wb, 0]\r\n",
        "\r\n",
        "x=cord.item(0)\r\n",
        "y=cord.item(1)\r\n",
        "z_neg=cord.item(2)\r\n",
        "\r\n",
        "print(x)\r\n",
        "print(y)\r\n",
        "print(z_neg)\r\n",
        "\r\n",
        "bt11 = np.linspace(Bb1[0],Bb2[0])\r\n",
        "bt12 = np.linspace(Bb1[1],Bb2[1])\r\n",
        "bt13 = np.linspace(Bb1[2],Bb2[2])\r\n",
        "\r\n",
        "bt21 = np.linspace(Bb2[0],Bb3[0])\r\n",
        "bt22 = np.linspace(Bb2[1],Bb3[1])\r\n",
        "bt23 = np.linspace(Bb2[2],Bb3[2])\r\n",
        "\r\n",
        "bt31 = np.linspace(Bb3[0],Bb1[0])\r\n",
        "bt32 = np.linspace(Bb3[1],Bb1[1])\r\n",
        "bt33 = np.linspace(Bb3[2],Bb1[2])\r\n",
        "\r\n",
        "fig = plt.figure()\r\n",
        "ax = plt.axes(projection='3d')\r\n",
        "\r\n",
        "ax.plot3D(x_BaseCircle,y_BaseCircle,0,'black')\r\n",
        "\r\n",
        "ax.plot3D(bt11, bt12, bt13,'red')\r\n",
        "ax.plot3D(bt21, bt22, bt23,'red')\r\n",
        "ax.plot3D(bt31, bt32, bt33,'red')\r\n",
        "\r\n",
        "Pp1 = [0+x,-up+y,0+z_neg]\r\n",
        "Pp2 = [Sp/2+x,wp+y,0+z_neg]\r\n",
        "Pp3 = [-Sp/2+x,wp+y,0+z_neg]\r\n",
        "\r\n",
        "pt11=np.linspace(Pp1[0],Pp2[0])\r\n",
        "pt12=np.linspace(Pp1[1],Pp2[1])\r\n",
        "pt13=np.linspace(Pp1[2],Pp2[2])\r\n",
        "\r\n",
        "pt21=np.linspace(Pp2[0],Pp3[0])\r\n",
        "pt22=np.linspace(Pp2[1],Pp3[1])\r\n",
        "pt23=np.linspace(Pp2[2],Pp3[2])\r\n",
        "\r\n",
        "pt31=np.linspace(Pp3[0],Pp1[0])\r\n",
        "pt32=np.linspace(Pp3[1],Pp1[1])\r\n",
        "pt33=np.linspace(Pp3[2],Pp1[2])\r\n",
        "\r\n",
        "ax.plot3D(pt11, pt12, pt13,'blue')\r\n",
        "ax.plot3D(pt21, pt22, pt23,'blue')\r\n",
        "ax.plot3D(pt31, pt32, pt33,'blue')\r\n",
        "\r\n",
        "###########################################################\r\n",
        "\r\n",
        "BB1=[0,-wb,0]\r\n",
        "BB2=[(math.sqrt(3)/2)*wb,1/2*wb,0]\r\n",
        "BB3=[-(math.sqrt(3)/2)*wb,1/2*wb,0]\r\n",
        "\r\n",
        "#Upper Legs L\r\n",
        "\r\n",
        "Bt11=np.linspace(BB1[0],L1.item(0))\r\n",
        "Bt12=np.linspace(BB1[1],L1.item(1))\r\n",
        "Bt13=np.linspace(BB1[2],L1.item(2))\r\n",
        "\r\n",
        "Bt21=np.linspace(BB2[0],L2.item(0))\r\n",
        "Bt22=np.linspace(BB2[1],L2.item(1))\r\n",
        "Bt23=np.linspace(BB2[2],L2.item(2))\r\n",
        "\r\n",
        "Bt31=np.linspace(BB3[0],L3.item(0))\r\n",
        "Bt32=np.linspace(BB3[1],L3.item(1))\r\n",
        "Bt33=np.linspace(BB3[2],L3.item(2))\r\n",
        "\r\n",
        "\r\n",
        "ax.plot3D(Bt11, Bt12, Bt13,'green')\r\n",
        "ax.plot3D(Bt21, Bt22, Bt23,'green')\r\n",
        "ax.plot3D(Bt31, Bt32, Bt33,'green')\r\n",
        "\r\n",
        "###########################################################\r\n",
        "\r\n",
        "#Lower Legs l\r\n",
        "a=wb-up\r\n",
        "b=Sp/2-(math.sqrt(3)/2)*wb\r\n",
        "c=wp-0.5*wb\r\n",
        "\r\n",
        "Bl1=[x , y+L*math.cos(theta1)+a , z_neg+L*math.sin(theta1)]\r\n",
        "Bl2=[x-(math.sqrt(3)/2)*L*math.cos(theta2)+b,y-0.5*L*math.cos(theta2)+c,z_neg+L*math.sin(theta2)]\r\n",
        "Bl3=[x+(math.sqrt(3)/2)*L*math.cos(theta3)-b,y-0.5*L*math.cos(theta3)+c,z_neg+L*math.sin(theta2)]\r\n",
        "\r\n",
        "\r\n",
        "LP11=np.linspace(L1.item(0),Pp1[0])\r\n",
        "LP12=np.linspace(L1.item(1),Pp1[1])\r\n",
        "LP13=np.linspace(L1.item(2),Pp1[2])\r\n",
        "\r\n",
        "LP21=np.linspace(L2.item(0),Pp2[0])\r\n",
        "LP22=np.linspace(L2.item(1),Pp2[1])\r\n",
        "LP23=np.linspace(L2.item(2),Pp2[2])\r\n",
        "\r\n",
        "LP31=np.linspace(L3.item(0),Pp3[0])\r\n",
        "LP32=np.linspace(L3.item(1),Pp3[1])\r\n",
        "LP33=np.linspace(L3.item(2),Pp3[2])\r\n",
        "\r\n",
        "ax.plot3D(LP11, LP12, LP13,'red')\r\n",
        "ax.plot3D(LP21, LP22, LP23,'red')\r\n",
        "ax.plot3D(LP31, LP32, LP33,'red')\r\n"
      ],
      "execution_count": null,
      "outputs": [
        {
          "output_type": "stream",
          "text": [
            "0.2\n",
            "0.2\n",
            "-1.0\n"
          ],
          "name": "stdout"
        },
        {
          "output_type": "execute_result",
          "data": {
            "text/plain": [
              "[<mpl_toolkits.mplot3d.art3d.Line3D at 0x7f9f57520710>]"
            ]
          },
          "metadata": {
            "tags": []
          },
          "execution_count": 580
        },
        {
          "output_type": "display_data",
          "data": {
            "image/png": "[encoded data removed]",
            "text/plain": [
              "<Figure size 432x288 with 1 Axes>"
            ]
          },
          "metadata": {
            "tags": [],
            "needs_background": "light"
          }
        }
      ]
    },
    {
      "cell_type": "markdown",
      "metadata": {
        "id": "IZ1FBn_FwFbg"
      },
      "source": [
        "# Reference\r\n",
        "\r\n",
        "\r\n",
        "- R.L.  Williams  II,  “The  Delta  Parallel  Robot:  Kinematics  Solutions”,  Internet  Publication,  www.ohio.edu/people/williar4/html/pdf/DeltaKin.pdf, January 2016.\r\n",
        "\r\n",
        "- ABB official site: https://new.abb.com/products/robotics/industrial-robots/irb-360/irb-360-data"
      ]
    }
  ]
}